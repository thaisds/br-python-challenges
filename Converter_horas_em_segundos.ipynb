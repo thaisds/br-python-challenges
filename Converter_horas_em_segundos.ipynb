{
 "cells": [
  {
   "cell_type": "code",
   "execution_count": 27,
   "metadata": {},
   "outputs": [
    {
     "name": "stdout",
     "output_type": "stream",
     "text": [
      "Insira a hora que deseja converter: 20\n",
      "Seconds =  72000\n"
     ]
    }
   ],
   "source": [
    "def ConvertHours(n): \n",
    "   \n",
    "    seconds = n * 3600; \n",
    "   \n",
    "    print(\"Seconds = \" , seconds); \n",
    "  \n",
    "   \n",
    "n = int(input(\"Insira a hora que deseja converter: \"))\n",
    "ConvertHours(n); "
   ]
  },
  {
   "cell_type": "code",
   "execution_count": null,
   "metadata": {},
   "outputs": [],
   "source": []
  }
 ],
 "metadata": {
  "kernelspec": {
   "display_name": "Python 3",
   "language": "python",
   "name": "python3"
  },
  "language_info": {
   "codemirror_mode": {
    "name": "ipython",
    "version": 3
   },
   "file_extension": ".py",
   "mimetype": "text/x-python",
   "name": "python",
   "nbconvert_exporter": "python",
   "pygments_lexer": "ipython3",
   "version": "3.8.3"
  }
 },
 "nbformat": 4,
 "nbformat_minor": 4
}
