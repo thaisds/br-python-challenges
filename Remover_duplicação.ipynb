{
 "cells": [
  {
   "cell_type": "code",
   "execution_count": 2,
   "metadata": {},
   "outputs": [],
   "source": [
    "numeros_telefone = [\n",
    "'(765) 368-1506',\n",
    "'(285) 608-2448',\n",
    "'(255) 826-9050',\n",
    "'(554) 994-1517',\n",
    "'(285) 608-2448',\n",
    "'(596) 336-5508',\n",
    "'(511) 821-7870',\n",
    "'(410) 665-4447',\n",
    "'(821) 642-8987',\n",
    "'(285) 608-2448',\n",
    "'(311) 799-3883',\n",
    "'(935) 875-2054',\n",
    "'(464) 788-2397',\n",
    "'(765) 368-1506',\n",
    "'(650) 684-1437',\n",
    "'(812) 816-0881',\n",
    "'(285) 608-2448',\n",
    "'(885) 407-1719',\n",
    "'(943) 769-1061',\n",
    "'(596) 336-5508',\n",
    "'(765) 368-1506',\n",
    "'(255) 826-9050',\n",
    "]"
   ]
  },
  {
   "cell_type": "code",
   "execution_count": 3,
   "metadata": {},
   "outputs": [
    {
     "data": {
      "text/plain": [
       "{'(255) 826-9050',\n",
       " '(285) 608-2448',\n",
       " '(311) 799-3883',\n",
       " '(410) 665-4447',\n",
       " '(464) 788-2397',\n",
       " '(511) 821-7870',\n",
       " '(554) 994-1517',\n",
       " '(596) 336-5508',\n",
       " '(650) 684-1437',\n",
       " '(765) 368-1506',\n",
       " '(812) 816-0881',\n",
       " '(821) 642-8987',\n",
       " '(885) 407-1719',\n",
       " '(935) 875-2054',\n",
       " '(943) 769-1061'}"
      ]
     },
     "execution_count": 3,
     "metadata": {},
     "output_type": "execute_result"
    }
   ],
   "source": [
    "set (numeros_telefone)"
   ]
  },
  {
   "cell_type": "code",
   "execution_count": null,
   "metadata": {},
   "outputs": [],
   "source": []
  }
 ],
 "metadata": {
  "kernelspec": {
   "display_name": "Python 3",
   "language": "python",
   "name": "python3"
  },
  "language_info": {
   "codemirror_mode": {
    "name": "ipython",
    "version": 3
   },
   "file_extension": ".py",
   "mimetype": "text/x-python",
   "name": "python",
   "nbconvert_exporter": "python",
   "pygments_lexer": "ipython3",
   "version": "3.8.3"
  }
 },
 "nbformat": 4,
 "nbformat_minor": 4
}
