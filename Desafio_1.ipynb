{
 "cells": [
  {
   "cell_type": "code",
   "execution_count": 12,
   "metadata": {},
   "outputs": [
    {
     "name": "stdout",
     "output_type": "stream",
     "text": [
      "red : 4\n",
      "green : 4\n",
      "black : 5\n",
      "pink : 6\n",
      "white : 5\n",
      "eyes : 1\n",
      "orange : 4\n"
     ]
    }
   ],
   "source": [
    "palavras = ('red', 'green', 'black', 'pink', 'black', 'white', 'black', 'eyes',\n",
    "   'white', 'black', 'orange', 'pink', 'pink', 'red', 'red', 'white', 'orange',\n",
    "   'white', \"black\", 'pink', 'green', 'green', 'pink', 'green', 'pink',\n",
    "   'white', 'orange', \"orange\", 'red') \n",
    "  \n",
    "d = dict() \n",
    "  \n",
    "for line in palavras: \n",
    "    \n",
    "    line = line.strip() \n",
    "  \n",
    " \n",
    "    line = line.lower() \n",
    "  \n",
    "\n",
    "    words = line.split(\" \") \n",
    "  \n",
    "    for word in words: \n",
    "        \n",
    "        if word in d: \n",
    "            \n",
    "            d[word] = d[word] + 1\n",
    "        else: \n",
    "          \n",
    "            d[word] = 1\n",
    "  \n",
    "for key in list(d.keys()): \n",
    "    print(key, \":\", d[key]) "
   ]
  },
  {
   "cell_type": "code",
   "execution_count": null,
   "metadata": {},
   "outputs": [],
   "source": []
  }
 ],
 "metadata": {
  "kernelspec": {
   "display_name": "Python 3",
   "language": "python",
   "name": "python3"
  },
  "language_info": {
   "codemirror_mode": {
    "name": "ipython",
    "version": 3
   },
   "file_extension": ".py",
   "mimetype": "text/x-python",
   "name": "python",
   "nbconvert_exporter": "python",
   "pygments_lexer": "ipython3",
   "version": "3.8.3"
  }
 },
 "nbformat": 4,
 "nbformat_minor": 4
}
